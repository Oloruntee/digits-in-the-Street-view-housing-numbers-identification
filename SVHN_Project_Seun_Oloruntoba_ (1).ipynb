{
 "cells": [
  {
   "cell_type": "markdown",
   "metadata": {
    "id": "ft1e26NfbWdw"
   },
   "source": [
    "# **Background and Context**\n",
    "The ability to process visual information using machine learning algorithms can be very useful as demonstrated in various applications. The Street View House Numbers (SVHN) dataset is one of the most popular ones. It has been used in neural networks created by Google to read house numbers and match them to their geolocations. This is a great benchmark dataset to play with, learn and train models that accurately identify street numbers, and incorporate them into all sorts of projects."
   ]
  },
  {
   "cell_type": "code",
   "execution_count": null,
   "metadata": {
    "id": "40NVrkQxWA_i"
   },
   "outputs": [],
   "source": []
  },
  {
   "cell_type": "markdown",
   "metadata": {
    "id": "_WGK82jAb0YI"
   },
   "source": [
    "# **Objective:**\n",
    "In this project, we will use a dataset with images centered around a single digit (many of the images do contain some distractors at the sides). Although we are taking a sample of the data which is simple. Given the dataset, our aim is to build a model that can identify house numbers in an image."
   ]
  },
  {
   "cell_type": "markdown",
   "metadata": {
    "id": "xcXp-9yfcNIz"
   },
   "source": [
    "# **Dataset**\n",
    "\n",
    "The dataset has the following features:\n",
    "\n",
    "Number of classes: 10\n",
    "\n",
    "Training data: 42000 images\n",
    "\n",
    "Testing data: 18000 images\n",
    "\n",
    "Note that we aim to use only 2000 samples from the train and the test data set for simplicity."
   ]
  },
  {
   "cell_type": "code",
   "execution_count": null,
   "metadata": {
    "id": "9DSPpymRWYxI"
   },
   "outputs": [],
   "source": []
  },
  {
   "cell_type": "code",
   "execution_count": 1,
   "metadata": {
    "id": "95K3mpK_HGtf"
   },
   "outputs": [],
   "source": [
    "# importing the required packages  \n",
    "import h5py\n",
    "import numpy as np\n",
    "import pandas as pd\n",
    "from sklearn.metrics import accuracy_score, confusion_matrix, precision_score, recall_score, f1_score, precision_recall_curve, auc\n",
    "from sklearn import preprocessing\n",
    "import tensorflow as tf\n",
    "from tensorflow.keras.layers import Dense, Dropout, BatchNormalization\n",
    "import matplotlib.pyplot as plt\n",
    "from tensorflow.keras import optimizers\n",
    "from tensorflow.keras import losses\n",
    "from keras.utils import np_utils\n",
    "from tensorflow.keras.utils import to_categorical\n",
    "import warnings\n",
    "warnings.filterwarnings(\"ignore\")\n",
    "from tensorflow.keras.callbacks import ModelCheckpoint, ReduceLROnPlateau\n",
    "from tensorflow.keras.models import Sequential\n",
    "from tensorflow.keras.layers import Dense, Dropout\n"
   ]
  },
  {
   "cell_type": "code",
   "execution_count": 2,
   "metadata": {
    "colab": {
     "base_uri": "https://localhost:8080/"
    },
    "id": "UYLHltPmHU1O",
    "outputId": "b69a1999-52d4-4c07-90c5-a6dcf4ac9763"
   },
   "outputs": [
    {
     "name": "stdout",
     "output_type": "stream",
     "text": [
      "Drive already mounted at /content/drive; to attempt to forcibly remount, call drive.mount(\"/content/drive\", force_remount=True).\n"
     ]
    }
   ],
   "source": [
    "#Mount the drive for google colab usage\n",
    "from google.colab import drive\n",
    "drive.mount('/content/drive')"
   ]
  },
  {
   "cell_type": "code",
   "execution_count": 3,
   "metadata": {
    "id": "UchicChyIkz-"
   },
   "outputs": [],
   "source": [
    "#defining the path of the dataset after uploadig the dataset.h5 into the drive\n",
    "dataset_file = '/content/drive/MyDrive/Project_SVHN/SVHN_single_grey1.h5'\n"
   ]
  },
  {
   "cell_type": "code",
   "execution_count": 4,
   "metadata": {
    "colab": {
     "base_uri": "https://localhost:8080/"
    },
    "id": "4YV158SNL5OQ",
    "outputId": "8f34ca16-f73e-4570-e41a-837e85cbfa52"
   },
   "outputs": [
    {
     "data": {
      "text/plain": [
       "<HDF5 file \"SVHN_single_grey1.h5\" (mode r)>"
      ]
     },
     "execution_count": 4,
     "metadata": {},
     "output_type": "execute_result"
    }
   ],
   "source": [
    "#Reading the .h5 file from the path\n",
    "import h5py\n",
    "h5f = h5py.File(dataset_file, 'r')\n",
    "h5f\n"
   ]
  },
  {
   "cell_type": "code",
   "execution_count": 5,
   "metadata": {
    "colab": {
     "base_uri": "https://localhost:8080/"
    },
    "id": "9aDal0KlrobZ",
    "outputId": "74395378-9f27-477d-d322-abdf9bafafc8"
   },
   "outputs": [
    {
     "name": "stdout",
     "output_type": "stream",
     "text": [
      "X_test\n",
      "X_train\n",
      "X_val\n",
      "y_test\n",
      "y_train\n",
      "y_val\n"
     ]
    }
   ],
   "source": [
    "# Studying the number of keys in the file\n",
    "for key in h5f.keys():\n",
    "    print(key) #Names of the groups in HDF5 file."
   ]
  },
  {
   "cell_type": "markdown",
   "metadata": {
    "id": "W_1LZOaUbjx5"
   },
   "source": [
    "***The dataset has 6 keys which are : X_test, X_train, X_val, y_test,y_train, y_val***"
   ]
  },
  {
   "cell_type": "code",
   "execution_count": 6,
   "metadata": {
    "colab": {
     "base_uri": "https://localhost:8080/"
    },
    "id": "e-t7To-So3g0",
    "outputId": "c14e2a51-f011-43f4-dcd1-24fca3e80b5a"
   },
   "outputs": [
    {
     "name": "stdout",
     "output_type": "stream",
     "text": [
      "[5.29239776e-260 1.11688278e-308 5.18067355e-318 ... 3.88209829e-265\n",
      " 3.88209829e-265 3.88209829e-265]\n"
     ]
    }
   ],
   "source": [
    "#Convert datafile to Numpy \n",
    "data = np.fromfile(dataset_file, dtype=float)\n",
    "print(data)"
   ]
  },
  {
   "cell_type": "code",
   "execution_count": 7,
   "metadata": {
    "colab": {
     "base_uri": "https://localhost:8080/"
    },
    "id": "61WKwFy5voyu",
    "outputId": "3eed3e16-0e80-4a1a-a39b-f24f4573cd7f"
   },
   "outputs": [
    {
     "data": {
      "text/plain": [
       "(61455512,)"
      ]
     },
     "execution_count": 7,
     "metadata": {},
     "output_type": "execute_result"
    }
   ],
   "source": [
    "#Confirm the Shape of the dataset\n",
    "data.shape"
   ]
  },
  {
   "cell_type": "code",
   "execution_count": 8,
   "metadata": {
    "id": "WlRuR5tkiT5X"
   },
   "outputs": [],
   "source": [
    "#Confirm the shape of each of the 6 keys \n",
    "X_train = h5f['X_train'][:]\n",
    "y_train = h5f['y_train'][:]\n",
    "X_val = h5f['X_val'][:]\n",
    "y_val = h5f['y_val'][:]\n",
    "X_test = h5f['X_test'][:]\n",
    "y_test = h5f['y_test'][:]\n"
   ]
  },
  {
   "cell_type": "code",
   "execution_count": 9,
   "metadata": {
    "colab": {
     "base_uri": "https://localhost:8080/"
    },
    "id": "9hG24YeqivVH",
    "outputId": "78901de7-21b4-44ac-81fe-4a635593c45d"
   },
   "outputs": [
    {
     "name": "stdout",
     "output_type": "stream",
     "text": [
      "(18000, 32, 32)\n",
      "(42000, 32, 32)\n",
      "(60000, 32, 32)\n",
      "(18000,)\n",
      "(42000,)\n",
      "(60000,)\n"
     ]
    }
   ],
   "source": [
    "#Printing the X_test, y_test, X_train, y_train, X_val, y_val shapes \n",
    "print(X_test.shape)\n",
    "print(X_train.shape)\n",
    "print(X_val.shape)\n",
    "print(y_test.shape)\n",
    "print(y_train.shape)\n",
    "print(y_val.shape)"
   ]
  },
  {
   "cell_type": "markdown",
   "metadata": {
    "id": "EiV1qxRSdaag"
   },
   "source": [
    "**The image size **is** 32 x 32 **"
   ]
  },
  {
   "cell_type": "markdown",
   "metadata": {
    "id": "iSBUEMbIeb7t"
   },
   "source": [
    "### **DATA VISUALIZATION**"
   ]
  },
  {
   "cell_type": "code",
   "execution_count": 10,
   "metadata": {
    "colab": {
     "base_uri": "https://localhost:8080/",
     "height": 96
    },
    "id": "WWAXA0CKcgSC",
    "outputId": "7c12750d-c90d-4ea2-ae16-7e66f239e15f"
   },
   "outputs": [
    {
     "data": {
      "image/png": "[encoded data removed]",
      "text/plain": [
       "<Figure size 720x72 with 10 Axes>"
      ]
     },
     "metadata": {
      "needs_background": "light"
     },
     "output_type": "display_data"
    },
    {
     "name": "stdout",
     "output_type": "stream",
     "text": [
      "label for each of the above image: [2 6 7 4 4 0 3 0 7 3]\n"
     ]
    }
   ],
   "source": [
    "# visualizing the first 10 images in the X_train in the dataset and their labels\n",
    "%matplotlib inline\n",
    "import matplotlib.pyplot as plt\n",
    "plt.figure(figsize=(10, 1))\n",
    "for i in range(10):\n",
    "    plt.subplot(1, 10, i+1)\n",
    "    plt.imshow(X_train[i], cmap=\"gray\")\n",
    "    plt.axis('off')\n",
    "plt.show()\n",
    "print('label for each of the above image: %s' % (y_train[0:10]))"
   ]
  },
  {
   "cell_type": "markdown",
   "metadata": {
    "id": "7EMS7K_letfh"
   },
   "source": [
    "## **Pre-Processing the Data **"
   ]
  },
  {
   "cell_type": "code",
   "execution_count": 11,
   "metadata": {
    "colab": {
     "base_uri": "https://localhost:8080/"
    },
    "id": "N63mcf-eeKf1",
    "outputId": "e569b970-ecec-49d5-860e-386e8ae501b6"
   },
   "outputs": [
    {
     "name": "stdout",
     "output_type": "stream",
     "text": [
      "Training set (42000, 1024) (42000,)\n",
      "Validation set (60000, 1024) (60000,)\n"
     ]
    }
   ],
   "source": [
    "# Flatten the images\n",
    "image_vector_size = 32*32\n",
    "x_train = X_train.reshape(X_train.shape[0], image_vector_size)\n",
    "x_val = X_val.reshape(X_val.shape[0], image_vector_size)\n",
    "\n",
    "# # normalize inputs from 0-255 to 0-1\n",
    "x_train = x_train / 255.0\n",
    "x_val = x_val / 255.0\n",
    "\n",
    "print('Training set', x_train.shape, y_train.shape)\n",
    "print('Validation set', x_val.shape, y_val.shape)"
   ]
  },
  {
   "cell_type": "markdown",
   "metadata": {
    "id": "r9ZYltMGeE6r"
   },
   "source": [
    "**The training and the validation data would be use for the model while the test data would be reserved for validation**"
   ]
  },
  {
   "cell_type": "code",
   "execution_count": 12,
   "metadata": {
    "id": "Q4HIHV6Ekmch"
   },
   "outputs": [],
   "source": [
    "# Extract 2000 samples to be used in the modelling    \n",
    "x_tr =x_train[:2000]\n",
    "x_val =x_val[:2000]\n",
    "y_tr = y_train[:2000]\n",
    "y_val = y_val[:2000]"
   ]
  },
  {
   "cell_type": "code",
   "execution_count": 13,
   "metadata": {
    "colab": {
     "base_uri": "https://localhost:8080/"
    },
    "id": "ENAdSkq8LMbD",
    "outputId": "4e62ab4a-9f2d-4e60-9f93-56a7ab691650"
   },
   "outputs": [
    {
     "data": {
      "text/plain": [
       "(2000,)"
      ]
     },
     "execution_count": 13,
     "metadata": {},
     "output_type": "execute_result"
    }
   ],
   "source": [
    "y_val.shape # Confirm the 2000 sample "
   ]
  },
  {
   "cell_type": "code",
   "execution_count": 14,
   "metadata": {
    "id": "n5NhwJdS9WPa"
   },
   "outputs": [],
   "source": [
    "# Convert to the output variable to \"one-hot\" vectors using the to_categorical function\n",
    "num_classes = 10\n",
    "y_tr = to_categorical(y_tr,num_classes)\n",
    "y_val = to_categorical(y_val,num_classes)"
   ]
  },
  {
   "cell_type": "code",
   "execution_count": 15,
   "metadata": {
    "colab": {
     "base_uri": "https://localhost:8080/"
    },
    "id": "yeCN6PvxMA8h",
    "outputId": "ad4e55a9-e571-4888-8988-6a4b39a5f40e"
   },
   "outputs": [
    {
     "data": {
      "text/plain": [
       "(2000, 10)"
      ]
     },
     "execution_count": 15,
     "metadata": {},
     "output_type": "execute_result"
    }
   ],
   "source": [
    "y_tr.shape #Confirm the 200 sample and the category number classes "
   ]
  },
  {
   "cell_type": "markdown",
   "metadata": {
    "id": "RbHnDCt4kYcR"
   },
   "source": [
    "# **Defining the Sequential Model**"
   ]
  },
  {
   "cell_type": "code",
   "execution_count": 16,
   "metadata": {
    "id": "Xb6WWqz8lVpj"
   },
   "outputs": [],
   "source": [
    "#Defining the Sequential Model\n",
    "image_size=32*32\n",
    "\n",
    "# create model\n",
    "model = Sequential()  \n",
    "model.add(Dense(256, activation='relu',kernel_initializer='he_uniform',input_shape=(image_size,))) ###Multiple Dense units with Relu activation\n",
    "model.add(Dense(64, activation='relu',kernel_initializer='he_uniform'))\n",
    "model.add(Dense(64, activation='relu',kernel_initializer='he_uniform'))\n",
    "model.add(Dense(32, activation='relu',kernel_initializer='he_uniform'))\n",
    "model.add(Dense(10, activation='Softmax')) ### For multiclass classification Softmax is used, this is num_class = 10"
   ]
  },
  {
   "cell_type": "code",
   "execution_count": 17,
   "metadata": {
    "id": "UoIXzQHNlV87"
   },
   "outputs": [],
   "source": [
    "# Compile the model\n",
    "#RMS_prop=optimizers.RMSprop()   ## we can similarly use different optimizers like RMSprop, Adagrad and SGD \n",
    "adam = optimizers.Adam(lr=1e-3) # Adam optimiser is used \n",
    "model.compile(loss= 'categorical_crossentropy', optimizer=adam, metrics=['accuracy']) ### Loss function used = Categorical cross entropy"
   ]
  },
  {
   "cell_type": "code",
   "execution_count": 18,
   "metadata": {
    "colab": {
     "base_uri": "https://localhost:8080/"
    },
    "id": "D_cPOZGBTSzW",
    "outputId": "69293dc3-277f-4a72-da2e-188cdcfba1d9"
   },
   "outputs": [
    {
     "name": "stdout",
     "output_type": "stream",
     "text": [
      "Model: \"sequential\"\n",
      "_________________________________________________________________\n",
      " Layer (type)                Output Shape              Param #   \n",
      "=================================================================\n",
      " dense (Dense)               (None, 256)               262400    \n",
      "                                                                 \n",
      " dense_1 (Dense)             (None, 64)                16448     \n",
      "                                                                 \n",
      " dense_2 (Dense)             (None, 64)                4160      \n",
      "                                                                 \n",
      " dense_3 (Dense)             (None, 32)                2080      \n",
      "                                                                 \n",
      " dense_4 (Dense)             (None, 10)                330       \n",
      "                                                                 \n",
      "=================================================================\n",
      "Total params: 285,418\n",
      "Trainable params: 285,418\n",
      "Non-trainable params: 0\n",
      "_________________________________________________________________\n"
     ]
    }
   ],
   "source": [
    "## Looking into our base model to get the summary\n",
    "model.summary()"
   ]
  },
  {
   "cell_type": "code",
   "execution_count": 19,
   "metadata": {
    "colab": {
     "base_uri": "https://localhost:8080/"
    },
    "id": "oznwbA94T-TG",
    "outputId": "50aa6c76-2471-49b0-8f09-2c878443042e"
   },
   "outputs": [
    {
     "name": "stdout",
     "output_type": "stream",
     "text": [
      "Epoch 1/10\n",
      "16/16 [==============================] - 2s 43ms/step - loss: 2.3734 - accuracy: 0.0950 - val_loss: 2.6351 - val_accuracy: 0.0000e+00\n",
      "Epoch 2/10\n",
      "16/16 [==============================] - 0s 20ms/step - loss: 2.3166 - accuracy: 0.1030 - val_loss: 2.3512 - val_accuracy: 0.0010\n",
      "Epoch 3/10\n",
      "16/16 [==============================] - 0s 15ms/step - loss: 2.3026 - accuracy: 0.1030 - val_loss: 2.4568 - val_accuracy: 0.0000e+00\n",
      "Epoch 4/10\n",
      "16/16 [==============================] - 0s 15ms/step - loss: 2.2996 - accuracy: 0.1050 - val_loss: 2.3225 - val_accuracy: 0.0035\n",
      "Epoch 5/10\n",
      "16/16 [==============================] - 0s 16ms/step - loss: 2.3039 - accuracy: 0.1085 - val_loss: 2.0787 - val_accuracy: 0.9610\n",
      "Epoch 6/10\n",
      "16/16 [==============================] - 0s 25ms/step - loss: 2.3046 - accuracy: 0.1050 - val_loss: 2.2026 - val_accuracy: 0.2730\n",
      "Epoch 7/10\n",
      "16/16 [==============================] - 0s 16ms/step - loss: 2.2965 - accuracy: 0.1140 - val_loss: 2.4632 - val_accuracy: 0.0035\n",
      "Epoch 8/10\n",
      "16/16 [==============================] - 0s 21ms/step - loss: 2.3008 - accuracy: 0.1170 - val_loss: 2.3973 - val_accuracy: 0.0120\n",
      "Epoch 9/10\n",
      "16/16 [==============================] - 0s 12ms/step - loss: 2.3004 - accuracy: 0.1040 - val_loss: 2.3163 - val_accuracy: 0.0190\n",
      "Epoch 10/10\n",
      "16/16 [==============================] - 0s 10ms/step - loss: 2.3024 - accuracy: 0.1105 - val_loss: 2.1104 - val_accuracy: 0.3110\n"
     ]
    },
    {
     "data": {
      "text/plain": [
       "<keras.callbacks.History at 0x7f76e8481190>"
      ]
     },
     "execution_count": 19,
     "metadata": {},
     "output_type": "execute_result"
    }
   ],
   "source": [
    "model.compile(optimizer='adam', loss='categorical_crossentropy', metrics=['accuracy'])\n",
    "model.fit(x_tr, y_tr, validation_data=(x_val, y_val), batch_size=128, epochs=10) "
   ]
  },
  {
   "cell_type": "markdown",
   "metadata": {
    "id": "47AD_S2No_0e"
   },
   "source": [
    "Observation : \n",
    "*   The accuracy for both Training and Validation at Epoch 10 are very low \n",
    "*   The losses are very high at Epoch 10\n",
    "\n",
    "\n"
   ]
  },
  {
   "cell_type": "markdown",
   "metadata": {
    "id": "Sv3FkAHimKzL"
   },
   "source": [
    "## **Tune the Hyperparameters of the model**\n",
    "\n",
    "\n",
    "\n"
   ]
  },
  {
   "cell_type": "code",
   "execution_count": 20,
   "metadata": {
    "colab": {
     "base_uri": "https://localhost:8080/"
    },
    "id": "ciM1YwKJKj8m",
    "outputId": "66bf476d-7452-42fa-b247-7d3a24a3d86f"
   },
   "outputs": [
    {
     "name": "stdout",
     "output_type": "stream",
     "text": [
      "Epoch 1/200\n",
      "16/16 [==============================] - 0s 12ms/step - loss: 2.2997 - accuracy: 0.1190 - val_loss: 2.1526 - val_accuracy: 0.6070\n",
      "Epoch 2/200\n",
      "16/16 [==============================] - 0s 10ms/step - loss: 2.2994 - accuracy: 0.1215 - val_loss: 2.3562 - val_accuracy: 0.0165\n",
      "Epoch 3/200\n",
      "16/16 [==============================] - 0s 10ms/step - loss: 2.2951 - accuracy: 0.1210 - val_loss: 2.1953 - val_accuracy: 0.5120\n",
      "Epoch 4/200\n",
      "16/16 [==============================] - 0s 9ms/step - loss: 2.2884 - accuracy: 0.1360 - val_loss: 2.2434 - val_accuracy: 0.1995\n",
      "Epoch 5/200\n",
      "16/16 [==============================] - 0s 9ms/step - loss: 2.2763 - accuracy: 0.1510 - val_loss: 2.2004 - val_accuracy: 0.5760\n",
      "Epoch 6/200\n",
      "16/16 [==============================] - 0s 9ms/step - loss: 2.2603 - accuracy: 0.1625 - val_loss: 2.2097 - val_accuracy: 0.3700\n",
      "Epoch 7/200\n",
      "16/16 [==============================] - 0s 10ms/step - loss: 2.2414 - accuracy: 0.1790 - val_loss: 2.4175 - val_accuracy: 0.0385\n",
      "Epoch 8/200\n",
      "16/16 [==============================] - 0s 9ms/step - loss: 2.2294 - accuracy: 0.1835 - val_loss: 2.0035 - val_accuracy: 0.7550\n",
      "Epoch 9/200\n",
      "16/16 [==============================] - 0s 9ms/step - loss: 2.1751 - accuracy: 0.2045 - val_loss: 2.2008 - val_accuracy: 0.3055\n",
      "Epoch 10/200\n",
      "16/16 [==============================] - 0s 9ms/step - loss: 2.1278 - accuracy: 0.2410 - val_loss: 2.1455 - val_accuracy: 0.3400\n",
      "Epoch 11/200\n",
      "16/16 [==============================] - 0s 9ms/step - loss: 2.0678 - accuracy: 0.2435 - val_loss: 2.0528 - val_accuracy: 0.4005\n",
      "Epoch 12/200\n",
      "16/16 [==============================] - 0s 9ms/step - loss: 2.0257 - accuracy: 0.2610 - val_loss: 2.0975 - val_accuracy: 0.3100\n",
      "Epoch 13/200\n",
      "16/16 [==============================] - 0s 11ms/step - loss: 1.9493 - accuracy: 0.2775 - val_loss: 2.2617 - val_accuracy: 0.0785\n",
      "Epoch 14/200\n",
      "16/16 [==============================] - 0s 9ms/step - loss: 1.8930 - accuracy: 0.3195 - val_loss: 2.2018 - val_accuracy: 0.1680\n",
      "Epoch 15/200\n",
      "16/16 [==============================] - 0s 9ms/step - loss: 1.8575 - accuracy: 0.3195 - val_loss: 1.9423 - val_accuracy: 0.3440\n",
      "Epoch 16/200\n",
      "16/16 [==============================] - 0s 9ms/step - loss: 1.8395 - accuracy: 0.3285 - val_loss: 2.0997 - val_accuracy: 0.3555\n",
      "Epoch 17/200\n",
      "16/16 [==============================] - 0s 11ms/step - loss: 1.7689 - accuracy: 0.3725 - val_loss: 2.0137 - val_accuracy: 0.3335\n",
      "Epoch 18/200\n",
      "16/16 [==============================] - 0s 10ms/step - loss: 1.7237 - accuracy: 0.3920 - val_loss: 2.0499 - val_accuracy: 0.1065\n",
      "Epoch 19/200\n",
      "16/16 [==============================] - 0s 11ms/step - loss: 1.7243 - accuracy: 0.3985 - val_loss: 2.0898 - val_accuracy: 0.2755\n",
      "Epoch 20/200\n",
      "16/16 [==============================] - 0s 9ms/step - loss: 1.6442 - accuracy: 0.4290 - val_loss: 1.7794 - val_accuracy: 0.3810\n",
      "Epoch 21/200\n",
      "16/16 [==============================] - 0s 9ms/step - loss: 1.6163 - accuracy: 0.4335 - val_loss: 1.8462 - val_accuracy: 0.3670\n",
      "Epoch 22/200\n",
      "16/16 [==============================] - 0s 11ms/step - loss: 1.5931 - accuracy: 0.4440 - val_loss: 1.8997 - val_accuracy: 0.3805\n",
      "Epoch 23/200\n",
      "16/16 [==============================] - 0s 9ms/step - loss: 1.5680 - accuracy: 0.4565 - val_loss: 1.8491 - val_accuracy: 0.3915\n",
      "Epoch 24/200\n",
      "16/16 [==============================] - 0s 10ms/step - loss: 1.5519 - accuracy: 0.4650 - val_loss: 1.7349 - val_accuracy: 0.4750\n",
      "Epoch 25/200\n",
      "16/16 [==============================] - 0s 9ms/step - loss: 1.5063 - accuracy: 0.4835 - val_loss: 1.8210 - val_accuracy: 0.4310\n",
      "Epoch 26/200\n",
      "16/16 [==============================] - 0s 10ms/step - loss: 1.4568 - accuracy: 0.4955 - val_loss: 1.8121 - val_accuracy: 0.3895\n",
      "Epoch 27/200\n",
      "16/16 [==============================] - 0s 9ms/step - loss: 1.4342 - accuracy: 0.5020 - val_loss: 1.7440 - val_accuracy: 0.4825\n",
      "Epoch 28/200\n",
      "16/16 [==============================] - 0s 10ms/step - loss: 1.4068 - accuracy: 0.5120 - val_loss: 1.4883 - val_accuracy: 0.5865\n",
      "Epoch 29/200\n",
      "16/16 [==============================] - 0s 9ms/step - loss: 1.3948 - accuracy: 0.5240 - val_loss: 1.6415 - val_accuracy: 0.5285\n",
      "Epoch 30/200\n",
      "16/16 [==============================] - 0s 10ms/step - loss: 1.4230 - accuracy: 0.5095 - val_loss: 1.7719 - val_accuracy: 0.4625\n",
      "Epoch 31/200\n",
      "16/16 [==============================] - 0s 11ms/step - loss: 1.3759 - accuracy: 0.5350 - val_loss: 1.6765 - val_accuracy: 0.4395\n",
      "Epoch 32/200\n",
      "16/16 [==============================] - 0s 11ms/step - loss: 1.3787 - accuracy: 0.5115 - val_loss: 1.6867 - val_accuracy: 0.4735\n",
      "Epoch 33/200\n",
      "16/16 [==============================] - 0s 10ms/step - loss: 1.3703 - accuracy: 0.5225 - val_loss: 1.6824 - val_accuracy: 0.4675\n",
      "Epoch 34/200\n",
      "16/16 [==============================] - 0s 9ms/step - loss: 1.3432 - accuracy: 0.5355 - val_loss: 1.5145 - val_accuracy: 0.5735\n",
      "Epoch 35/200\n",
      "16/16 [==============================] - 0s 9ms/step - loss: 1.3637 - accuracy: 0.5255 - val_loss: 1.3624 - val_accuracy: 0.6020\n",
      "Epoch 36/200\n",
      "16/16 [==============================] - 0s 11ms/step - loss: 1.3206 - accuracy: 0.5465 - val_loss: 1.7288 - val_accuracy: 0.4930\n",
      "Epoch 37/200\n",
      "16/16 [==============================] - 0s 11ms/step - loss: 1.2647 - accuracy: 0.5865 - val_loss: 1.7396 - val_accuracy: 0.4660\n",
      "Epoch 38/200\n",
      "16/16 [==============================] - 0s 11ms/step - loss: 1.2624 - accuracy: 0.5610 - val_loss: 1.3692 - val_accuracy: 0.6170\n",
      "Epoch 39/200\n",
      "16/16 [==============================] - 0s 9ms/step - loss: 1.2548 - accuracy: 0.5765 - val_loss: 1.4213 - val_accuracy: 0.5635\n",
      "Epoch 40/200\n",
      "16/16 [==============================] - 0s 9ms/step - loss: 1.2269 - accuracy: 0.5880 - val_loss: 1.3022 - val_accuracy: 0.6570\n",
      "Epoch 41/200\n",
      "16/16 [==============================] - 0s 10ms/step - loss: 1.2272 - accuracy: 0.5840 - val_loss: 1.3245 - val_accuracy: 0.6550\n",
      "Epoch 42/200\n",
      "16/16 [==============================] - 0s 9ms/step - loss: 1.1535 - accuracy: 0.6105 - val_loss: 1.4833 - val_accuracy: 0.5495\n",
      "Epoch 43/200\n",
      "16/16 [==============================] - 0s 10ms/step - loss: 1.1521 - accuracy: 0.6120 - val_loss: 1.2988 - val_accuracy: 0.6105\n",
      "Epoch 44/200\n",
      "16/16 [==============================] - 0s 9ms/step - loss: 1.1361 - accuracy: 0.6165 - val_loss: 1.4029 - val_accuracy: 0.5970\n",
      "Epoch 45/200\n",
      "16/16 [==============================] - 0s 9ms/step - loss: 1.1445 - accuracy: 0.6180 - val_loss: 1.2586 - val_accuracy: 0.6700\n",
      "Epoch 46/200\n",
      "16/16 [==============================] - 0s 9ms/step - loss: 1.1326 - accuracy: 0.6240 - val_loss: 1.5281 - val_accuracy: 0.5650\n",
      "Epoch 47/200\n",
      "16/16 [==============================] - 0s 10ms/step - loss: 1.1576 - accuracy: 0.6150 - val_loss: 1.4129 - val_accuracy: 0.6125\n",
      "Epoch 48/200\n",
      "16/16 [==============================] - 0s 9ms/step - loss: 1.1064 - accuracy: 0.6180 - val_loss: 1.1216 - val_accuracy: 0.7215\n",
      "Epoch 49/200\n",
      "16/16 [==============================] - 0s 9ms/step - loss: 1.0834 - accuracy: 0.6460 - val_loss: 1.2393 - val_accuracy: 0.6775\n",
      "Epoch 50/200\n",
      "16/16 [==============================] - 0s 9ms/step - loss: 1.1011 - accuracy: 0.6320 - val_loss: 1.5779 - val_accuracy: 0.5630\n",
      "Epoch 51/200\n",
      "16/16 [==============================] - 0s 9ms/step - loss: 1.0701 - accuracy: 0.6475 - val_loss: 1.1380 - val_accuracy: 0.7040\n",
      "Epoch 52/200\n",
      "16/16 [==============================] - 0s 10ms/step - loss: 1.0588 - accuracy: 0.6440 - val_loss: 1.4848 - val_accuracy: 0.5565\n",
      "Epoch 53/200\n",
      "16/16 [==============================] - 0s 10ms/step - loss: 1.0708 - accuracy: 0.6515 - val_loss: 1.0240 - val_accuracy: 0.7370\n",
      "Epoch 54/200\n",
      "16/16 [==============================] - 0s 11ms/step - loss: 1.0585 - accuracy: 0.6440 - val_loss: 1.5117 - val_accuracy: 0.5685\n",
      "Epoch 55/200\n",
      "16/16 [==============================] - 0s 9ms/step - loss: 1.0611 - accuracy: 0.6480 - val_loss: 1.4346 - val_accuracy: 0.5960\n",
      "Epoch 56/200\n",
      "16/16 [==============================] - 0s 11ms/step - loss: 1.0393 - accuracy: 0.6655 - val_loss: 1.2681 - val_accuracy: 0.6350\n",
      "Epoch 57/200\n",
      "16/16 [==============================] - 0s 11ms/step - loss: 1.0188 - accuracy: 0.6630 - val_loss: 1.3474 - val_accuracy: 0.6300\n",
      "Epoch 58/200\n",
      "16/16 [==============================] - 0s 11ms/step - loss: 1.0261 - accuracy: 0.6680 - val_loss: 1.2340 - val_accuracy: 0.6750\n",
      "Epoch 59/200\n",
      "16/16 [==============================] - 0s 9ms/step - loss: 1.0311 - accuracy: 0.6555 - val_loss: 1.0924 - val_accuracy: 0.7240\n",
      "Epoch 60/200\n",
      "16/16 [==============================] - 0s 11ms/step - loss: 0.9749 - accuracy: 0.6735 - val_loss: 1.4991 - val_accuracy: 0.5830\n",
      "Epoch 61/200\n",
      "16/16 [==============================] - 0s 11ms/step - loss: 0.9505 - accuracy: 0.6915 - val_loss: 1.2463 - val_accuracy: 0.6650\n",
      "Epoch 62/200\n",
      "16/16 [==============================] - 0s 10ms/step - loss: 0.9369 - accuracy: 0.6900 - val_loss: 1.5612 - val_accuracy: 0.5335\n",
      "Epoch 63/200\n",
      "16/16 [==============================] - 0s 9ms/step - loss: 1.0033 - accuracy: 0.6600 - val_loss: 1.2646 - val_accuracy: 0.6430\n",
      "Epoch 64/200\n",
      "16/16 [==============================] - 0s 10ms/step - loss: 0.9622 - accuracy: 0.6850 - val_loss: 1.4011 - val_accuracy: 0.6255\n",
      "Epoch 65/200\n",
      "16/16 [==============================] - 0s 9ms/step - loss: 0.9509 - accuracy: 0.6815 - val_loss: 1.2742 - val_accuracy: 0.6605\n",
      "Epoch 66/200\n",
      "16/16 [==============================] - 0s 9ms/step - loss: 0.9423 - accuracy: 0.6815 - val_loss: 1.3260 - val_accuracy: 0.6240\n",
      "Epoch 67/200\n",
      "16/16 [==============================] - 0s 9ms/step - loss: 0.9842 - accuracy: 0.6690 - val_loss: 1.4307 - val_accuracy: 0.5855\n",
      "Epoch 68/200\n",
      "16/16 [==============================] - 0s 9ms/step - loss: 0.9435 - accuracy: 0.6835 - val_loss: 1.3499 - val_accuracy: 0.5820\n",
      "Epoch 69/200\n",
      "16/16 [==============================] - 0s 11ms/step - loss: 0.9200 - accuracy: 0.6975 - val_loss: 1.2713 - val_accuracy: 0.6355\n",
      "Epoch 70/200\n",
      "16/16 [==============================] - 0s 11ms/step - loss: 0.9051 - accuracy: 0.7060 - val_loss: 1.2785 - val_accuracy: 0.6450\n",
      "Epoch 71/200\n",
      "16/16 [==============================] - 0s 9ms/step - loss: 0.8877 - accuracy: 0.7110 - val_loss: 1.2110 - val_accuracy: 0.6525\n",
      "Epoch 72/200\n",
      "16/16 [==============================] - 0s 9ms/step - loss: 0.9484 - accuracy: 0.6790 - val_loss: 1.5463 - val_accuracy: 0.5645\n",
      "Epoch 73/200\n",
      "16/16 [==============================] - 0s 10ms/step - loss: 0.8955 - accuracy: 0.7020 - val_loss: 1.2540 - val_accuracy: 0.6555\n",
      "Epoch 74/200\n",
      "16/16 [==============================] - 0s 9ms/step - loss: 0.8465 - accuracy: 0.7155 - val_loss: 1.3958 - val_accuracy: 0.6100\n",
      "Epoch 75/200\n",
      "16/16 [==============================] - 0s 9ms/step - loss: 0.8417 - accuracy: 0.7230 - val_loss: 1.3143 - val_accuracy: 0.6265\n",
      "Epoch 76/200\n",
      "16/16 [==============================] - 0s 11ms/step - loss: 0.8096 - accuracy: 0.7270 - val_loss: 1.3880 - val_accuracy: 0.6355\n",
      "Epoch 77/200\n",
      "16/16 [==============================] - 0s 9ms/step - loss: 0.8273 - accuracy: 0.7310 - val_loss: 1.2845 - val_accuracy: 0.6525\n",
      "Epoch 78/200\n",
      "16/16 [==============================] - 0s 11ms/step - loss: 0.8167 - accuracy: 0.7335 - val_loss: 1.0284 - val_accuracy: 0.7270\n",
      "Epoch 79/200\n",
      "16/16 [==============================] - 0s 10ms/step - loss: 0.8364 - accuracy: 0.7275 - val_loss: 1.4027 - val_accuracy: 0.6020\n",
      "Epoch 80/200\n",
      "16/16 [==============================] - 0s 9ms/step - loss: 0.7920 - accuracy: 0.7330 - val_loss: 1.4888 - val_accuracy: 0.6015\n",
      "Epoch 81/200\n",
      "16/16 [==============================] - 0s 9ms/step - loss: 0.7797 - accuracy: 0.7430 - val_loss: 1.2450 - val_accuracy: 0.6645\n",
      "Epoch 82/200\n",
      "16/16 [==============================] - 0s 10ms/step - loss: 0.8186 - accuracy: 0.7225 - val_loss: 1.2492 - val_accuracy: 0.6725\n",
      "Epoch 83/200\n",
      "16/16 [==============================] - 0s 11ms/step - loss: 0.8296 - accuracy: 0.7265 - val_loss: 1.4044 - val_accuracy: 0.6025\n",
      "Epoch 84/200\n",
      "16/16 [==============================] - 0s 10ms/step - loss: 0.7784 - accuracy: 0.7395 - val_loss: 1.6304 - val_accuracy: 0.5185\n",
      "Epoch 85/200\n",
      "16/16 [==============================] - 0s 10ms/step - loss: 0.8081 - accuracy: 0.7305 - val_loss: 1.6117 - val_accuracy: 0.5400\n",
      "Epoch 86/200\n",
      "16/16 [==============================] - 0s 10ms/step - loss: 0.8364 - accuracy: 0.7210 - val_loss: 1.2666 - val_accuracy: 0.6420\n",
      "Epoch 87/200\n",
      "16/16 [==============================] - 0s 9ms/step - loss: 0.7561 - accuracy: 0.7555 - val_loss: 1.1976 - val_accuracy: 0.6570\n",
      "Epoch 88/200\n",
      "16/16 [==============================] - 0s 11ms/step - loss: 0.7449 - accuracy: 0.7560 - val_loss: 1.2361 - val_accuracy: 0.6795\n",
      "Epoch 89/200\n",
      "16/16 [==============================] - 0s 11ms/step - loss: 0.7267 - accuracy: 0.7575 - val_loss: 1.3008 - val_accuracy: 0.6630\n",
      "Epoch 90/200\n",
      "16/16 [==============================] - 0s 9ms/step - loss: 0.7166 - accuracy: 0.7665 - val_loss: 1.3125 - val_accuracy: 0.6365\n",
      "Epoch 91/200\n",
      "16/16 [==============================] - 0s 9ms/step - loss: 0.7000 - accuracy: 0.7655 - val_loss: 1.2800 - val_accuracy: 0.6590\n",
      "Epoch 92/200\n",
      "16/16 [==============================] - 0s 9ms/step - loss: 0.7102 - accuracy: 0.7730 - val_loss: 1.2508 - val_accuracy: 0.6645\n",
      "Epoch 93/200\n",
      "16/16 [==============================] - 0s 10ms/step - loss: 0.6924 - accuracy: 0.7705 - val_loss: 1.1567 - val_accuracy: 0.7080\n",
      "Epoch 94/200\n",
      "16/16 [==============================] - 0s 10ms/step - loss: 0.7083 - accuracy: 0.7620 - val_loss: 1.4305 - val_accuracy: 0.6335\n",
      "Epoch 95/200\n",
      "16/16 [==============================] - 0s 10ms/step - loss: 0.6977 - accuracy: 0.7675 - val_loss: 1.3829 - val_accuracy: 0.6285\n",
      "Epoch 96/200\n",
      "16/16 [==============================] - 0s 9ms/step - loss: 0.7489 - accuracy: 0.7480 - val_loss: 1.4106 - val_accuracy: 0.6355\n",
      "Epoch 97/200\n",
      "16/16 [==============================] - 0s 9ms/step - loss: 0.7343 - accuracy: 0.7490 - val_loss: 1.1567 - val_accuracy: 0.6980\n",
      "Epoch 98/200\n",
      "16/16 [==============================] - 0s 10ms/step - loss: 0.6864 - accuracy: 0.7730 - val_loss: 1.4295 - val_accuracy: 0.6160\n",
      "Epoch 99/200\n",
      "16/16 [==============================] - 0s 9ms/step - loss: 0.6761 - accuracy: 0.7770 - val_loss: 1.5785 - val_accuracy: 0.5740\n",
      "Epoch 100/200\n",
      "16/16 [==============================] - 0s 10ms/step - loss: 0.6631 - accuracy: 0.7955 - val_loss: 1.2248 - val_accuracy: 0.6715\n",
      "Epoch 101/200\n",
      "16/16 [==============================] - 0s 11ms/step - loss: 0.6394 - accuracy: 0.7925 - val_loss: 1.1507 - val_accuracy: 0.7025\n",
      "Epoch 102/200\n",
      "16/16 [==============================] - 0s 11ms/step - loss: 0.6438 - accuracy: 0.7880 - val_loss: 1.3487 - val_accuracy: 0.6410\n",
      "Epoch 103/200\n",
      "16/16 [==============================] - 0s 9ms/step - loss: 0.6745 - accuracy: 0.7805 - val_loss: 1.3964 - val_accuracy: 0.6250\n",
      "Epoch 104/200\n",
      "16/16 [==============================] - 0s 9ms/step - loss: 0.6387 - accuracy: 0.7935 - val_loss: 1.4330 - val_accuracy: 0.6240\n",
      "Epoch 105/200\n",
      "16/16 [==============================] - 0s 9ms/step - loss: 0.6484 - accuracy: 0.7915 - val_loss: 1.1619 - val_accuracy: 0.6985\n",
      "Epoch 106/200\n",
      "16/16 [==============================] - 0s 10ms/step - loss: 0.6272 - accuracy: 0.7925 - val_loss: 1.3729 - val_accuracy: 0.6320\n",
      "Epoch 107/200\n",
      "16/16 [==============================] - 0s 9ms/step - loss: 0.6607 - accuracy: 0.7790 - val_loss: 1.3195 - val_accuracy: 0.6610\n",
      "Epoch 108/200\n",
      "16/16 [==============================] - 0s 12ms/step - loss: 0.6061 - accuracy: 0.8070 - val_loss: 1.3717 - val_accuracy: 0.6385\n",
      "Epoch 109/200\n",
      "16/16 [==============================] - 0s 9ms/step - loss: 0.6132 - accuracy: 0.8040 - val_loss: 1.5726 - val_accuracy: 0.6005\n",
      "Epoch 110/200\n",
      "16/16 [==============================] - 0s 11ms/step - loss: 0.5765 - accuracy: 0.8120 - val_loss: 1.3155 - val_accuracy: 0.6585\n",
      "Epoch 111/200\n",
      "16/16 [==============================] - 0s 11ms/step - loss: 0.5530 - accuracy: 0.8290 - val_loss: 1.3116 - val_accuracy: 0.6530\n",
      "Epoch 112/200\n",
      "16/16 [==============================] - 0s 9ms/step - loss: 0.5686 - accuracy: 0.8195 - val_loss: 1.3571 - val_accuracy: 0.6545\n",
      "Epoch 113/200\n",
      "16/16 [==============================] - 0s 9ms/step - loss: 0.6065 - accuracy: 0.7970 - val_loss: 1.9469 - val_accuracy: 0.5155\n",
      "Epoch 114/200\n",
      "16/16 [==============================] - 0s 11ms/step - loss: 0.6062 - accuracy: 0.8020 - val_loss: 1.2282 - val_accuracy: 0.6850\n",
      "Epoch 115/200\n",
      "16/16 [==============================] - 0s 10ms/step - loss: 0.5789 - accuracy: 0.8100 - val_loss: 1.2566 - val_accuracy: 0.6750\n",
      "Epoch 116/200\n",
      "16/16 [==============================] - 0s 9ms/step - loss: 0.5602 - accuracy: 0.8105 - val_loss: 1.2738 - val_accuracy: 0.6775\n",
      "Epoch 117/200\n",
      "16/16 [==============================] - 0s 11ms/step - loss: 0.5695 - accuracy: 0.8105 - val_loss: 1.2565 - val_accuracy: 0.6875\n",
      "Epoch 118/200\n",
      "16/16 [==============================] - 0s 9ms/step - loss: 0.5686 - accuracy: 0.8210 - val_loss: 1.3965 - val_accuracy: 0.6370\n",
      "Epoch 119/200\n",
      "16/16 [==============================] - 0s 9ms/step - loss: 0.5313 - accuracy: 0.8345 - val_loss: 1.5351 - val_accuracy: 0.6080\n",
      "Epoch 120/200\n",
      "16/16 [==============================] - 0s 10ms/step - loss: 0.5488 - accuracy: 0.8175 - val_loss: 1.3918 - val_accuracy: 0.6455\n",
      "Epoch 121/200\n",
      "16/16 [==============================] - 0s 10ms/step - loss: 0.5057 - accuracy: 0.8390 - val_loss: 1.5066 - val_accuracy: 0.6210\n",
      "Epoch 122/200\n",
      "16/16 [==============================] - 0s 11ms/step - loss: 0.5251 - accuracy: 0.8280 - val_loss: 1.5081 - val_accuracy: 0.6175\n",
      "Epoch 123/200\n",
      "16/16 [==============================] - 0s 9ms/step - loss: 0.5285 - accuracy: 0.8345 - val_loss: 1.3569 - val_accuracy: 0.6585\n",
      "Epoch 124/200\n",
      "16/16 [==============================] - 0s 10ms/step - loss: 0.5406 - accuracy: 0.8255 - val_loss: 1.0894 - val_accuracy: 0.7325\n",
      "Epoch 125/200\n",
      "16/16 [==============================] - 0s 9ms/step - loss: 0.5341 - accuracy: 0.8355 - val_loss: 1.5713 - val_accuracy: 0.6155\n",
      "Epoch 126/200\n",
      "16/16 [==============================] - 0s 9ms/step - loss: 0.5606 - accuracy: 0.8265 - val_loss: 1.0038 - val_accuracy: 0.7465\n",
      "Epoch 127/200\n",
      "16/16 [==============================] - 0s 10ms/step - loss: 0.6089 - accuracy: 0.7895 - val_loss: 1.6232 - val_accuracy: 0.5925\n",
      "Epoch 128/200\n",
      "16/16 [==============================] - 0s 9ms/step - loss: 0.5377 - accuracy: 0.8195 - val_loss: 1.4208 - val_accuracy: 0.6315\n",
      "Epoch 129/200\n",
      "16/16 [==============================] - 0s 11ms/step - loss: 0.5213 - accuracy: 0.8350 - val_loss: 1.1314 - val_accuracy: 0.7240\n",
      "Epoch 130/200\n",
      "16/16 [==============================] - 0s 10ms/step - loss: 0.5404 - accuracy: 0.8185 - val_loss: 1.6261 - val_accuracy: 0.6005\n",
      "Epoch 131/200\n",
      "16/16 [==============================] - 0s 9ms/step - loss: 0.5552 - accuracy: 0.8145 - val_loss: 1.4332 - val_accuracy: 0.6400\n",
      "Epoch 132/200\n",
      "16/16 [==============================] - 0s 10ms/step - loss: 0.5218 - accuracy: 0.8340 - val_loss: 1.4334 - val_accuracy: 0.6325\n",
      "Epoch 133/200\n",
      "16/16 [==============================] - 0s 11ms/step - loss: 0.5253 - accuracy: 0.8285 - val_loss: 1.3104 - val_accuracy: 0.6830\n",
      "Epoch 134/200\n",
      "16/16 [==============================] - 0s 9ms/step - loss: 0.5428 - accuracy: 0.8225 - val_loss: 1.6874 - val_accuracy: 0.5745\n",
      "Epoch 135/200\n",
      "16/16 [==============================] - 0s 10ms/step - loss: 0.5016 - accuracy: 0.8295 - val_loss: 1.5160 - val_accuracy: 0.6075\n",
      "Epoch 136/200\n",
      "16/16 [==============================] - 0s 9ms/step - loss: 0.5010 - accuracy: 0.8340 - val_loss: 1.4379 - val_accuracy: 0.6460\n",
      "Epoch 137/200\n",
      "16/16 [==============================] - 0s 9ms/step - loss: 0.4679 - accuracy: 0.8535 - val_loss: 1.5154 - val_accuracy: 0.6310\n",
      "Epoch 138/200\n",
      "16/16 [==============================] - 0s 10ms/step - loss: 0.4588 - accuracy: 0.8505 - val_loss: 1.3892 - val_accuracy: 0.6605\n",
      "Epoch 139/200\n",
      "16/16 [==============================] - 0s 11ms/step - loss: 0.4459 - accuracy: 0.8645 - val_loss: 1.2971 - val_accuracy: 0.6850\n",
      "Epoch 140/200\n",
      "16/16 [==============================] - 0s 9ms/step - loss: 0.4547 - accuracy: 0.8550 - val_loss: 1.4299 - val_accuracy: 0.6510\n",
      "Epoch 141/200\n",
      "16/16 [==============================] - 0s 11ms/step - loss: 0.4783 - accuracy: 0.8460 - val_loss: 1.5755 - val_accuracy: 0.6235\n",
      "Epoch 142/200\n",
      "16/16 [==============================] - 0s 9ms/step - loss: 0.4545 - accuracy: 0.8560 - val_loss: 1.5662 - val_accuracy: 0.6325\n",
      "Epoch 143/200\n",
      "16/16 [==============================] - 0s 10ms/step - loss: 0.4345 - accuracy: 0.8570 - val_loss: 1.4185 - val_accuracy: 0.6610\n",
      "Epoch 144/200\n",
      "16/16 [==============================] - 0s 9ms/step - loss: 0.4232 - accuracy: 0.8655 - val_loss: 1.4817 - val_accuracy: 0.6410\n",
      "Epoch 145/200\n",
      "16/16 [==============================] - 0s 11ms/step - loss: 0.4615 - accuracy: 0.8485 - val_loss: 1.4962 - val_accuracy: 0.6445\n",
      "Epoch 146/200\n",
      "16/16 [==============================] - 0s 11ms/step - loss: 0.4096 - accuracy: 0.8700 - val_loss: 1.7781 - val_accuracy: 0.5825\n",
      "Epoch 147/200\n",
      "16/16 [==============================] - 0s 10ms/step - loss: 0.4138 - accuracy: 0.8695 - val_loss: 1.5102 - val_accuracy: 0.6495\n",
      "Epoch 148/200\n",
      "16/16 [==============================] - 0s 10ms/step - loss: 0.4164 - accuracy: 0.8705 - val_loss: 1.7031 - val_accuracy: 0.6145\n",
      "Epoch 149/200\n",
      "16/16 [==============================] - 0s 9ms/step - loss: 0.4211 - accuracy: 0.8705 - val_loss: 1.4807 - val_accuracy: 0.6560\n",
      "Epoch 150/200\n",
      "16/16 [==============================] - 0s 9ms/step - loss: 0.4513 - accuracy: 0.8525 - val_loss: 1.6396 - val_accuracy: 0.6290\n",
      "Epoch 151/200\n",
      "16/16 [==============================] - 0s 11ms/step - loss: 0.4168 - accuracy: 0.8675 - val_loss: 1.4837 - val_accuracy: 0.6665\n",
      "Epoch 152/200\n",
      "16/16 [==============================] - 0s 10ms/step - loss: 0.4492 - accuracy: 0.8575 - val_loss: 1.2268 - val_accuracy: 0.7140\n",
      "Epoch 153/200\n",
      "16/16 [==============================] - 0s 9ms/step - loss: 0.4199 - accuracy: 0.8655 - val_loss: 1.6948 - val_accuracy: 0.6105\n",
      "Epoch 154/200\n",
      "16/16 [==============================] - 0s 11ms/step - loss: 0.4113 - accuracy: 0.8685 - val_loss: 1.7255 - val_accuracy: 0.6080\n",
      "Epoch 155/200\n",
      "16/16 [==============================] - 0s 9ms/step - loss: 0.3939 - accuracy: 0.8745 - val_loss: 1.4519 - val_accuracy: 0.6710\n",
      "Epoch 156/200\n",
      "16/16 [==============================] - 0s 11ms/step - loss: 0.3824 - accuracy: 0.8740 - val_loss: 1.7775 - val_accuracy: 0.5925\n",
      "Epoch 157/200\n",
      "16/16 [==============================] - 0s 11ms/step - loss: 0.3623 - accuracy: 0.8875 - val_loss: 1.6612 - val_accuracy: 0.6170\n",
      "Epoch 158/200\n",
      "16/16 [==============================] - 0s 10ms/step - loss: 0.3450 - accuracy: 0.8940 - val_loss: 1.7800 - val_accuracy: 0.6185\n",
      "Epoch 159/200\n",
      "16/16 [==============================] - 0s 11ms/step - loss: 0.3541 - accuracy: 0.8930 - val_loss: 1.5800 - val_accuracy: 0.6480\n",
      "Epoch 160/200\n",
      "16/16 [==============================] - 0s 9ms/step - loss: 0.3573 - accuracy: 0.8890 - val_loss: 1.7476 - val_accuracy: 0.6130\n",
      "Epoch 161/200\n",
      "16/16 [==============================] - 0s 9ms/step - loss: 0.3480 - accuracy: 0.8930 - val_loss: 1.7173 - val_accuracy: 0.6340\n",
      "Epoch 162/200\n",
      "16/16 [==============================] - 0s 9ms/step - loss: 0.3604 - accuracy: 0.8800 - val_loss: 2.0352 - val_accuracy: 0.5785\n",
      "Epoch 163/200\n",
      "16/16 [==============================] - 0s 11ms/step - loss: 0.3845 - accuracy: 0.8750 - val_loss: 1.7349 - val_accuracy: 0.6135\n",
      "Epoch 164/200\n",
      "16/16 [==============================] - 0s 10ms/step - loss: 0.4164 - accuracy: 0.8650 - val_loss: 1.5327 - val_accuracy: 0.6625\n",
      "Epoch 165/200\n",
      "16/16 [==============================] - 0s 10ms/step - loss: 0.3658 - accuracy: 0.8830 - val_loss: 1.5752 - val_accuracy: 0.6600\n",
      "Epoch 166/200\n",
      "16/16 [==============================] - 0s 11ms/step - loss: 0.3358 - accuracy: 0.8955 - val_loss: 1.7025 - val_accuracy: 0.6225\n",
      "Epoch 167/200\n",
      "16/16 [==============================] - 0s 9ms/step - loss: 0.3257 - accuracy: 0.9005 - val_loss: 1.9517 - val_accuracy: 0.5900\n",
      "Epoch 168/200\n",
      "16/16 [==============================] - 0s 9ms/step - loss: 0.3453 - accuracy: 0.8925 - val_loss: 1.9971 - val_accuracy: 0.5575\n",
      "Epoch 169/200\n",
      "16/16 [==============================] - 0s 11ms/step - loss: 0.3601 - accuracy: 0.8855 - val_loss: 1.5990 - val_accuracy: 0.6355\n",
      "Epoch 170/200\n",
      "16/16 [==============================] - 0s 11ms/step - loss: 0.3372 - accuracy: 0.8970 - val_loss: 1.9043 - val_accuracy: 0.5905\n",
      "Epoch 171/200\n",
      "16/16 [==============================] - 0s 11ms/step - loss: 0.3490 - accuracy: 0.8805 - val_loss: 1.5980 - val_accuracy: 0.6420\n",
      "Epoch 172/200\n",
      "16/16 [==============================] - 0s 9ms/step - loss: 0.3311 - accuracy: 0.8990 - val_loss: 1.7067 - val_accuracy: 0.6255\n",
      "Epoch 173/200\n",
      "16/16 [==============================] - 0s 9ms/step - loss: 0.3488 - accuracy: 0.8840 - val_loss: 1.6758 - val_accuracy: 0.6545\n",
      "Epoch 174/200\n",
      "16/16 [==============================] - 0s 11ms/step - loss: 0.3524 - accuracy: 0.8840 - val_loss: 1.6020 - val_accuracy: 0.6625\n",
      "Epoch 175/200\n",
      "16/16 [==============================] - 0s 11ms/step - loss: 0.3625 - accuracy: 0.8825 - val_loss: 1.6428 - val_accuracy: 0.6490\n",
      "Epoch 176/200\n",
      "16/16 [==============================] - 0s 10ms/step - loss: 0.3279 - accuracy: 0.8880 - val_loss: 1.7337 - val_accuracy: 0.6425\n",
      "Epoch 177/200\n",
      "16/16 [==============================] - 0s 9ms/step - loss: 0.3495 - accuracy: 0.8785 - val_loss: 1.5666 - val_accuracy: 0.6795\n",
      "Epoch 178/200\n",
      "16/16 [==============================] - 0s 11ms/step - loss: 0.2919 - accuracy: 0.9120 - val_loss: 1.5208 - val_accuracy: 0.6710\n",
      "Epoch 179/200\n",
      "16/16 [==============================] - 0s 9ms/step - loss: 0.2840 - accuracy: 0.9170 - val_loss: 1.9063 - val_accuracy: 0.6050\n",
      "Epoch 180/200\n",
      "16/16 [==============================] - 0s 9ms/step - loss: 0.3006 - accuracy: 0.9095 - val_loss: 1.5378 - val_accuracy: 0.6795\n",
      "Epoch 181/200\n",
      "16/16 [==============================] - 0s 9ms/step - loss: 0.3132 - accuracy: 0.9035 - val_loss: 1.9345 - val_accuracy: 0.6055\n",
      "Epoch 182/200\n",
      "16/16 [==============================] - 0s 9ms/step - loss: 0.3261 - accuracy: 0.8915 - val_loss: 2.0460 - val_accuracy: 0.5945\n",
      "Epoch 183/200\n",
      "16/16 [==============================] - 0s 10ms/step - loss: 0.2993 - accuracy: 0.9065 - val_loss: 1.8499 - val_accuracy: 0.6275\n",
      "Epoch 184/200\n",
      "16/16 [==============================] - 0s 10ms/step - loss: 0.2835 - accuracy: 0.9190 - val_loss: 1.5923 - val_accuracy: 0.6740\n",
      "Epoch 185/200\n",
      "16/16 [==============================] - 0s 10ms/step - loss: 0.2884 - accuracy: 0.9145 - val_loss: 1.9134 - val_accuracy: 0.6190\n",
      "Epoch 186/200\n",
      "16/16 [==============================] - 0s 11ms/step - loss: 0.2985 - accuracy: 0.9010 - val_loss: 1.4636 - val_accuracy: 0.6920\n",
      "Epoch 187/200\n",
      "16/16 [==============================] - 0s 10ms/step - loss: 0.2618 - accuracy: 0.9225 - val_loss: 1.7015 - val_accuracy: 0.6480\n",
      "Epoch 188/200\n",
      "16/16 [==============================] - 0s 11ms/step - loss: 0.2519 - accuracy: 0.9195 - val_loss: 1.6549 - val_accuracy: 0.6780\n",
      "Epoch 189/200\n",
      "16/16 [==============================] - 0s 10ms/step - loss: 0.2421 - accuracy: 0.9345 - val_loss: 1.8461 - val_accuracy: 0.6305\n",
      "Epoch 190/200\n",
      "16/16 [==============================] - 0s 9ms/step - loss: 0.2395 - accuracy: 0.9255 - val_loss: 1.8515 - val_accuracy: 0.6380\n",
      "Epoch 191/200\n",
      "16/16 [==============================] - 0s 11ms/step - loss: 0.2243 - accuracy: 0.9355 - val_loss: 2.2317 - val_accuracy: 0.5870\n",
      "Epoch 192/200\n",
      "16/16 [==============================] - 0s 10ms/step - loss: 0.3581 - accuracy: 0.8830 - val_loss: 2.2363 - val_accuracy: 0.5640\n",
      "Epoch 193/200\n",
      "16/16 [==============================] - 0s 10ms/step - loss: 0.3660 - accuracy: 0.8730 - val_loss: 2.0237 - val_accuracy: 0.5925\n",
      "Epoch 194/200\n",
      "16/16 [==============================] - 0s 11ms/step - loss: 0.3003 - accuracy: 0.9020 - val_loss: 1.9198 - val_accuracy: 0.6235\n",
      "Epoch 195/200\n",
      "16/16 [==============================] - 0s 10ms/step - loss: 0.5206 - accuracy: 0.8350 - val_loss: 1.9709 - val_accuracy: 0.5840\n",
      "Epoch 196/200\n",
      "16/16 [==============================] - 0s 10ms/step - loss: 0.4841 - accuracy: 0.8375 - val_loss: 1.7032 - val_accuracy: 0.6515\n",
      "Epoch 197/200\n",
      "16/16 [==============================] - 0s 9ms/step - loss: 0.3346 - accuracy: 0.8965 - val_loss: 1.9130 - val_accuracy: 0.6190\n",
      "Epoch 198/200\n",
      "16/16 [==============================] - 0s 11ms/step - loss: 0.2522 - accuracy: 0.9265 - val_loss: 1.7062 - val_accuracy: 0.6550\n",
      "Epoch 199/200\n",
      "16/16 [==============================] - 0s 9ms/step - loss: 0.2390 - accuracy: 0.9305 - val_loss: 2.0216 - val_accuracy: 0.6100\n",
      "Epoch 200/200\n",
      "16/16 [==============================] - 0s 9ms/step - loss: 0.2428 - accuracy: 0.9305 - val_loss: 1.9669 - val_accuracy: 0.6245\n"
     ]
    },
    {
     "data": {
      "text/plain": [
       "<keras.callbacks.History at 0x7f76ecb84450>"
      ]
     },
     "execution_count": 20,
     "metadata": {},
     "output_type": "execute_result"
    }
   ],
   "source": [
    "#Increase the Epoch to 200\n",
    "model.fit(x_tr, y_tr, validation_data=(x_val, y_val), batch_size=128, epochs=200)  \n"
   ]
  },
  {
   "cell_type": "markdown",
   "metadata": {
    "id": "9Kfqc8ykqfLJ"
   },
   "source": [
    "# Observation  \n",
    "The accuracy increased for the training dataset from 0.377 to 0.933 and the loss reduces as well.\n",
    "\n",
    "The accuracy increased for the validation dataset from 0.480 to 0.629 and the loss reduces as well"
   ]
  },
  {
   "cell_type": "code",
   "execution_count": 21,
   "metadata": {
    "colab": {
     "base_uri": "https://localhost:8080/"
    },
    "id": "-UDWsfzFqr6O",
    "outputId": "339ae1dd-1634-492f-c257-b657a3e470ff"
   },
   "outputs": [
    {
     "name": "stdout",
     "output_type": "stream",
     "text": [
      "Epoch 1/30\n",
      "16/16 [==============================] - 1s 22ms/step - loss: 2.3618 - accuracy: 0.1020 - val_loss: 2.3203 - val_accuracy: 0.0030\n",
      "Epoch 2/30\n",
      "16/16 [==============================] - 0s 10ms/step - loss: 2.3233 - accuracy: 0.1130 - val_loss: 2.4520 - val_accuracy: 5.0000e-04\n",
      "Epoch 3/30\n",
      "16/16 [==============================] - 0s 11ms/step - loss: 2.3118 - accuracy: 0.1160 - val_loss: 2.3052 - val_accuracy: 0.0075\n",
      "Epoch 4/30\n",
      "16/16 [==============================] - 0s 11ms/step - loss: 2.3065 - accuracy: 0.1175 - val_loss: 2.3875 - val_accuracy: 0.0025\n",
      "Epoch 5/30\n",
      "16/16 [==============================] - 0s 10ms/step - loss: 2.3138 - accuracy: 0.1015 - val_loss: 2.4318 - val_accuracy: 0.0015\n",
      "Epoch 6/30\n",
      "16/16 [==============================] - 0s 11ms/step - loss: 2.3078 - accuracy: 0.1220 - val_loss: 2.2384 - val_accuracy: 0.2040\n",
      "Epoch 7/30\n",
      "16/16 [==============================] - 0s 10ms/step - loss: 2.3074 - accuracy: 0.1030 - val_loss: 2.3707 - val_accuracy: 0.0000e+00\n",
      "Epoch 8/30\n",
      "16/16 [==============================] - 0s 11ms/step - loss: 2.3000 - accuracy: 0.1130 - val_loss: 2.3817 - val_accuracy: 0.0030\n",
      "Epoch 9/30\n",
      "16/16 [==============================] - 0s 10ms/step - loss: 2.2979 - accuracy: 0.1145 - val_loss: 2.3449 - val_accuracy: 0.0325\n",
      "Epoch 10/30\n",
      "16/16 [==============================] - 0s 10ms/step - loss: 2.2852 - accuracy: 0.1440 - val_loss: 2.4193 - val_accuracy: 5.0000e-04\n",
      "Epoch 11/30\n",
      "16/16 [==============================] - 0s 10ms/step - loss: 2.2674 - accuracy: 0.1555 - val_loss: 2.2941 - val_accuracy: 0.1680\n",
      "Epoch 12/30\n",
      "16/16 [==============================] - 0s 10ms/step - loss: 2.2592 - accuracy: 0.1650 - val_loss: 2.2560 - val_accuracy: 0.0800\n",
      "Epoch 13/30\n",
      "16/16 [==============================] - 0s 11ms/step - loss: 2.2320 - accuracy: 0.1895 - val_loss: 2.0293 - val_accuracy: 0.6405\n",
      "Epoch 14/30\n",
      "16/16 [==============================] - 0s 12ms/step - loss: 2.1820 - accuracy: 0.1965 - val_loss: 2.2419 - val_accuracy: 0.0275\n",
      "Epoch 15/30\n",
      "16/16 [==============================] - 0s 10ms/step - loss: 2.1440 - accuracy: 0.2170 - val_loss: 2.2440 - val_accuracy: 0.2890\n",
      "Epoch 16/30\n",
      "16/16 [==============================] - 0s 10ms/step - loss: 2.0796 - accuracy: 0.2460 - val_loss: 2.1969 - val_accuracy: 0.2565\n",
      "Epoch 17/30\n",
      "16/16 [==============================] - 0s 10ms/step - loss: 1.9856 - accuracy: 0.3035 - val_loss: 1.8607 - val_accuracy: 0.4635\n",
      "Epoch 18/30\n",
      "16/16 [==============================] - 0s 10ms/step - loss: 1.8663 - accuracy: 0.3505 - val_loss: 1.8583 - val_accuracy: 0.5170\n",
      "Epoch 19/30\n",
      "16/16 [==============================] - 0s 10ms/step - loss: 1.7920 - accuracy: 0.3620 - val_loss: 1.6661 - val_accuracy: 0.5735\n",
      "Epoch 20/30\n",
      "16/16 [==============================] - 0s 10ms/step - loss: 1.7508 - accuracy: 0.3885 - val_loss: 2.2538 - val_accuracy: 0.2480\n",
      "Epoch 21/30\n",
      "16/16 [==============================] - 0s 10ms/step - loss: 1.6268 - accuracy: 0.4425 - val_loss: 1.8705 - val_accuracy: 0.4315\n",
      "Epoch 22/30\n",
      "16/16 [==============================] - 0s 11ms/step - loss: 1.6208 - accuracy: 0.4410 - val_loss: 2.1545 - val_accuracy: 0.2145\n",
      "Epoch 23/30\n",
      "16/16 [==============================] - 0s 10ms/step - loss: 1.5664 - accuracy: 0.4570 - val_loss: 2.0860 - val_accuracy: 0.3190\n",
      "Epoch 24/30\n",
      "16/16 [==============================] - 0s 10ms/step - loss: 1.4992 - accuracy: 0.5040 - val_loss: 1.4639 - val_accuracy: 0.6120\n",
      "Epoch 25/30\n",
      "16/16 [==============================] - 0s 11ms/step - loss: 1.4270 - accuracy: 0.5075 - val_loss: 1.1865 - val_accuracy: 0.7170\n",
      "Epoch 26/30\n",
      "16/16 [==============================] - 0s 11ms/step - loss: 1.5138 - accuracy: 0.4925 - val_loss: 1.3659 - val_accuracy: 0.6395\n",
      "Epoch 27/30\n",
      "16/16 [==============================] - 0s 11ms/step - loss: 1.4291 - accuracy: 0.5040 - val_loss: 1.4137 - val_accuracy: 0.6250\n",
      "Epoch 28/30\n",
      "16/16 [==============================] - 0s 10ms/step - loss: 1.2988 - accuracy: 0.5655 - val_loss: 1.8635 - val_accuracy: 0.4400\n",
      "Epoch 29/30\n",
      "16/16 [==============================] - 0s 10ms/step - loss: 1.2743 - accuracy: 0.5810 - val_loss: 1.3266 - val_accuracy: 0.6460\n",
      "Epoch 30/30\n",
      "16/16 [==============================] - 0s 10ms/step - loss: 1.2591 - accuracy: 0.5650 - val_loss: 1.6127 - val_accuracy: 0.5320\n"
     ]
    },
    {
     "data": {
      "text/plain": [
       "<keras.callbacks.History at 0x7f76ecb3c590>"
      ]
     },
     "execution_count": 21,
     "metadata": {},
     "output_type": "execute_result"
    }
   ],
   "source": [
    "# Change the number of Neurons \n",
    "\n",
    "#Defining the Sequential Model\n",
    "image_size=32*32\n",
    "\n",
    "# create model\n",
    "model = Sequential()  \n",
    "model.add(Dense(256, activation='relu',kernel_initializer='he_uniform',input_shape=(image_size,))) ###Multiple Dense units with Relu activation\n",
    "model.add(Dense(128, activation='relu',kernel_initializer='he_uniform'))\n",
    "model.add(Dense(128, activation='relu',kernel_initializer='he_uniform'))\n",
    "model.add(Dense(64, activation='relu',kernel_initializer='he_uniform'))\n",
    "model.add(Dense(10, activation='Softmax')) ### For multiclass classification Softmax is used, this is num_class = 10\n",
    "\n",
    "\n",
    "model.compile(optimizer='adam', loss='categorical_crossentropy', metrics=['accuracy'])\n",
    "model.fit(x_tr, y_tr, validation_data=(x_val, y_val), batch_size=128, epochs=30) "
   ]
  },
  {
   "cell_type": "code",
   "execution_count": 22,
   "metadata": {
    "colab": {
     "base_uri": "https://localhost:8080/"
    },
    "id": "0y24m-Dj_tEy",
    "outputId": "5706ba47-b27f-4dda-9cdf-de68fa95a67b"
   },
   "outputs": [
    {
     "name": "stdout",
     "output_type": "stream",
     "text": [
      "Epoch 1/30\n",
      "16/16 [==============================] - 1s 20ms/step - loss: 2.4324 - accuracy: 0.1020 - val_loss: 2.4740 - val_accuracy: 0.0000e+00\n",
      "Epoch 2/30\n",
      "16/16 [==============================] - 0s 11ms/step - loss: 2.3353 - accuracy: 0.1135 - val_loss: 2.2879 - val_accuracy: 0.0065\n",
      "Epoch 3/30\n",
      "16/16 [==============================] - 0s 11ms/step - loss: 2.3119 - accuracy: 0.1195 - val_loss: 2.3585 - val_accuracy: 0.0000e+00\n",
      "Epoch 4/30\n",
      "16/16 [==============================] - 0s 10ms/step - loss: 2.3234 - accuracy: 0.1070 - val_loss: 2.5008 - val_accuracy: 5.0000e-04\n",
      "Epoch 5/30\n",
      "16/16 [==============================] - 0s 10ms/step - loss: 2.3105 - accuracy: 0.1090 - val_loss: 2.9605 - val_accuracy: 0.0000e+00\n",
      "Epoch 6/30\n",
      "16/16 [==============================] - 0s 10ms/step - loss: 2.3019 - accuracy: 0.1320 - val_loss: 2.5320 - val_accuracy: 0.0010\n",
      "Epoch 7/30\n",
      "16/16 [==============================] - 0s 11ms/step - loss: 2.2898 - accuracy: 0.1345 - val_loss: 2.3701 - val_accuracy: 0.0125\n",
      "Epoch 8/30\n",
      "16/16 [==============================] - 0s 10ms/step - loss: 2.2847 - accuracy: 0.1420 - val_loss: 2.2964 - val_accuracy: 0.0345\n",
      "Epoch 9/30\n",
      "16/16 [==============================] - 0s 11ms/step - loss: 2.2586 - accuracy: 0.1745 - val_loss: 2.1164 - val_accuracy: 0.3515\n",
      "Epoch 10/30\n",
      "16/16 [==============================] - 0s 11ms/step - loss: 2.2410 - accuracy: 0.1670 - val_loss: 2.0864 - val_accuracy: 0.1850\n",
      "Epoch 11/30\n",
      "16/16 [==============================] - 0s 10ms/step - loss: 2.2245 - accuracy: 0.1990 - val_loss: 2.4364 - val_accuracy: 0.0310\n",
      "Epoch 12/30\n",
      "16/16 [==============================] - 0s 10ms/step - loss: 2.1652 - accuracy: 0.2140 - val_loss: 2.7433 - val_accuracy: 0.0155\n",
      "Epoch 13/30\n",
      "16/16 [==============================] - 0s 10ms/step - loss: 2.0750 - accuracy: 0.2570 - val_loss: 1.9233 - val_accuracy: 0.4430\n",
      "Epoch 14/30\n",
      "16/16 [==============================] - 0s 10ms/step - loss: 1.9762 - accuracy: 0.3025 - val_loss: 2.6186 - val_accuracy: 0.1155\n",
      "Epoch 15/30\n",
      "16/16 [==============================] - 0s 12ms/step - loss: 1.9388 - accuracy: 0.2960 - val_loss: 2.0679 - val_accuracy: 0.3755\n",
      "Epoch 16/30\n",
      "16/16 [==============================] - 0s 11ms/step - loss: 1.8156 - accuracy: 0.3630 - val_loss: 1.7921 - val_accuracy: 0.4585\n",
      "Epoch 17/30\n",
      "16/16 [==============================] - 0s 11ms/step - loss: 1.8250 - accuracy: 0.3450 - val_loss: 1.9173 - val_accuracy: 0.3845\n",
      "Epoch 18/30\n",
      "16/16 [==============================] - 0s 10ms/step - loss: 1.6367 - accuracy: 0.4365 - val_loss: 1.6277 - val_accuracy: 0.5420\n",
      "Epoch 19/30\n",
      "16/16 [==============================] - 0s 10ms/step - loss: 1.5978 - accuracy: 0.4280 - val_loss: 2.2956 - val_accuracy: 0.1980\n",
      "Epoch 20/30\n",
      "16/16 [==============================] - 0s 10ms/step - loss: 1.5214 - accuracy: 0.4775 - val_loss: 1.3826 - val_accuracy: 0.5460\n",
      "Epoch 21/30\n",
      "16/16 [==============================] - 0s 11ms/step - loss: 1.5323 - accuracy: 0.4715 - val_loss: 1.6740 - val_accuracy: 0.4290\n",
      "Epoch 22/30\n",
      "16/16 [==============================] - 0s 11ms/step - loss: 1.4166 - accuracy: 0.5260 - val_loss: 1.4755 - val_accuracy: 0.5520\n",
      "Epoch 23/30\n",
      "16/16 [==============================] - 0s 12ms/step - loss: 1.3624 - accuracy: 0.5425 - val_loss: 1.9023 - val_accuracy: 0.2885\n",
      "Epoch 24/30\n",
      "16/16 [==============================] - 0s 10ms/step - loss: 1.3818 - accuracy: 0.5295 - val_loss: 1.4577 - val_accuracy: 0.5475\n",
      "Epoch 25/30\n",
      "16/16 [==============================] - 0s 11ms/step - loss: 1.2905 - accuracy: 0.5660 - val_loss: 2.3871 - val_accuracy: 0.2535\n",
      "Epoch 26/30\n",
      "16/16 [==============================] - 0s 10ms/step - loss: 1.3106 - accuracy: 0.5720 - val_loss: 1.3953 - val_accuracy: 0.5405\n",
      "Epoch 27/30\n",
      "16/16 [==============================] - 0s 11ms/step - loss: 1.2929 - accuracy: 0.5685 - val_loss: 1.9381 - val_accuracy: 0.3310\n",
      "Epoch 28/30\n",
      "16/16 [==============================] - 0s 10ms/step - loss: 1.2112 - accuracy: 0.5970 - val_loss: 1.6457 - val_accuracy: 0.4320\n",
      "Epoch 29/30\n",
      "16/16 [==============================] - 0s 11ms/step - loss: 1.1518 - accuracy: 0.6260 - val_loss: 1.8926 - val_accuracy: 0.3635\n",
      "Epoch 30/30\n",
      "16/16 [==============================] - 0s 11ms/step - loss: 1.1770 - accuracy: 0.6045 - val_loss: 1.0693 - val_accuracy: 0.7050\n"
     ]
    },
    {
     "data": {
      "text/plain": [
       "<keras.callbacks.History at 0x7f76e2d08a90>"
      ]
     },
     "execution_count": 22,
     "metadata": {},
     "output_type": "execute_result"
    }
   ],
   "source": [
    "# Change the activation function from relu to elu for the last two neurons\n",
    "\n",
    "#Defining the Sequential Model\n",
    "image_size=32*32\n",
    "\n",
    "# create model\n",
    "model = Sequential()  \n",
    "model.add(Dense(256, activation='relu',kernel_initializer='he_uniform',input_shape=(image_size,))) ###Multiple Dense units with Relu activation\n",
    "model.add(Dense(128, activation='relu',kernel_initializer='he_uniform'))\n",
    "model.add(Dense(128, activation='elu',kernel_initializer='he_uniform'))\n",
    "model.add(Dense(64, activation='elu',kernel_initializer='he_uniform'))\n",
    "model.add(Dense(10, activation='Softmax')) ### For multiclass classification Softmax is used, this is num_class = 10\n",
    "\n",
    "model.compile(optimizer='adam', loss='categorical_crossentropy', metrics=['accuracy'])\n",
    "model.fit(x_tr, y_tr, validation_data=(x_val, y_val), batch_size=128, epochs=30) "
   ]
  },
  {
   "cell_type": "markdown",
   "metadata": {
    "id": "KsuiHoLHsyzA"
   },
   "source": [
    "Observation:\n",
    "22"
   ]
  },
  {
   "cell_type": "code",
   "execution_count": 23,
   "metadata": {
    "id": "nuSdZgG8uAYy"
   },
   "outputs": [],
   "source": [
    "# Testing the model (Pre-processing)\n",
    "x_test = X_test.reshape(X_test.shape[0], image_vector_size)\n",
    "x_test = x_test / 255.0\n",
    "y_test = to_categorical(y_test,num_classes)"
   ]
  },
  {
   "cell_type": "code",
   "execution_count": 24,
   "metadata": {
    "colab": {
     "base_uri": "https://localhost:8080/"
    },
    "id": "va5tE3E8uU7u",
    "outputId": "10ea28a2-49a7-4121-a305-6547d5168510"
   },
   "outputs": [
    {
     "name": "stdout",
     "output_type": "stream",
     "text": [
      "563/563 [==============================] - 1s 2ms/step - loss: 1.4714 - accuracy: 0.5234\n"
     ]
    }
   ],
   "source": [
    "# Evaluate the model\n",
    "results = model.evaluate(x_test, y_test)"
   ]
  },
  {
   "cell_type": "code",
   "execution_count": 25,
   "metadata": {
    "colab": {
     "base_uri": "https://localhost:8080/"
    },
    "id": "AH-ob6Ziy-4m",
    "outputId": "96946351-b8b2-4c58-debe-d0f041512b8a"
   },
   "outputs": [
    {
     "name": "stdout",
     "output_type": "stream",
     "text": [
      "563/563 [==============================] - 1s 2ms/step - loss: 1.4714 - accuracy: 0.5234\n",
      "Test loss: 1.471402645111084\n",
      "Test accuracy: 0.5233888626098633\n"
     ]
    }
   ],
   "source": [
    "scores = model.evaluate(x_test, y_test, verbose=1)\n",
    "print('Test loss:', scores[0])\n",
    "print('Test accuracy:', scores[1])"
   ]
  },
  {
   "cell_type": "markdown",
   "metadata": {
    "id": "0w0xzjqVzVAG"
   },
   "source": [
    "#Summary and Observation \n",
    "\n",
    "1. The image format required the .h5 file to be read with a h5py file format \n",
    "\n",
    "2. The data had to be converted into an array before it can be used for the modelling \n",
    "\n",
    "3. The data were given for train, validation and test, while the train and validation were used in the modelling the test was only used after the model has been completed to avoid data leakage \n",
    "\n",
    "4. Also, noticed the difference in the accuracy and loss based on the different Neural Network Hyperparameter tunning such as: Number of neurons, activation function, optimizer, learning rate, batch size, or epochs, even though not all were tunned in the project\n",
    "\n",
    "5. The test accuracy was a bit less than the train result but higher than the validation result, with this we could say it does not overfit even though the result was not too good. \n",
    "\n",
    "6. Increase in epoch tend to result in the increase of the accuracy of the  training data but the validation hover around 0.5 - 0.6 irrespective of the number of epoch which means the model overfits when the epoch is very high. \n",
    "\n",
    "\n",
    "\n",
    "\n"
   ]
  },
  {
   "cell_type": "code",
   "execution_count": 25,
   "metadata": {
    "id": "Q13GfFaAzSXA"
   },
   "outputs": [],
   "source": []
  }
 ],
 "metadata": {
  "colab": {
   "name": "SVHN_Project_Seun Oloruntoba.ipynb",
   "provenance": []
  },
  "kernelspec": {
   "display_name": "Python 3 (ipykernel)",
   "language": "python",
   "name": "python3"
  },
  "language_info": {
   "codemirror_mode": {
    "name": "ipython",
    "version": 3
   },
   "file_extension": ".py",
   "mimetype": "text/x-python",
   "name": "python",
   "nbconvert_exporter": "python",
   "pygments_lexer": "ipython3",
   "version": "3.9.7"
  }
 },
 "nbformat": 4,
 "nbformat_minor": 1
}
